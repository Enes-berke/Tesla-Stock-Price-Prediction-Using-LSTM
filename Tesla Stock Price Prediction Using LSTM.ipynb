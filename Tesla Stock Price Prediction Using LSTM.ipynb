{
 "cells": [
  {
   "cell_type": "markdown",
   "id": "f0986823",
   "metadata": {},
   "source": [
    "# LSTM ile Hisse Senedi Fiyatı Tahmini"
   ]
  },
  {
   "cell_type": "markdown",
   "id": "a9426a35",
   "metadata": {},
   "source": [
    "* İş Problemi (Business Problem)\n",
    "* Veriyi Anlamak (Data Understanding)\n",
    "* Veriyi Hazırlamak (Data Preparation)\n",
    "* Modelleme (Modeling)\n",
    "* DeğerIendirme (Evaluation)"
   ]
  },
  {
   "cell_type": "markdown",
   "id": "4e16bd65",
   "metadata": {},
   "source": [
    "<h4> 1.) İş Problemi</h4>\n",
    "\n",
    "\n",
    "- **Date:** İlgili İşlem Gününün tarihini temsil etmektedir.\n",
    "- **Open:** İlgili işlem gününe ait Hisse başlangıç fiyatını temsil etmektedir.\n",
    "- **High:** İlgili işlem gününe ait en yüksek fiyatı temsil etmektedir.\n",
    "- **Low:** İlgili işlem gününe ait en düşük fiyatı temsil etmektedir.\n",
    "- **Close:** İlgili işlem gününde hisse senedinin kapanış fiyatını temsil etmektedir.\n",
    "- **Adj Close:** İlgili işlem gününe ait hisse senedinin düzeltilmiş kapanış fiyatını temsil etmektedir.\n",
    "- **Volume:** İlgili işlem gününe ait işlem hacmi bilgisini temsil etmektedir."
   ]
  },
  {
   "cell_type": "code",
   "execution_count": 1,
   "id": "d6d3d90a",
   "metadata": {},
   "outputs": [
    {
     "name": "stdout",
     "output_type": "stream",
     "text": [
      "WARNING:tensorflow:From C:\\Users\\ASUS\\AppData\\Local\\Temp\\ipykernel_30672\\2837950285.py:23: The name tf.logging.set_verbosity is deprecated. Please use tf.compat.v1.logging.set_verbosity instead.\n",
      "\n"
     ]
    }
   ],
   "source": [
    "# Veriyi okuma ve işleme adımında kullanılacak olan kütüphaneler\n",
    "import numpy as np\n",
    "import pandas as pd\n",
    "import tensorflow as tf\n",
    "import matplotlib.pyplot as plt\n",
    "\n",
    "# Model değerlendirme ve veriyi scale edebilmemiz için kullanılacak olan kütüphaneler\n",
    "from sklearn.preprocessing import MinMaxScaler\n",
    "from sklearn.metrics import mean_squared_error\n",
    "\n",
    "# Model için kullanılacak olan kütüphaneler\n",
    "from tensorflow.keras.models import Sequential\n",
    "from tensorflow.keras. layers import Dense, LSTM, Dropout\n",
    "from tensorflow.keras. callbacks import ModelCheckpoint, EarlyStopping\n",
    "\n",
    "# Warningleri kapatmak için kullanılmaktadır.\n",
    "import warnings\n",
    "warnings. filterwarnings('ignore')\n",
    "\n",
    "# Tensorflow Warning Engelleme\n",
    "import os\n",
    "os. environ ['TF_CPP_MIN_LOG_LEVEL'] = '3'\n",
    "tf.compat.v1. logging.set_verbosity(tf.compat.v1.logging. ERROR)"
   ]
  },
  {
   "cell_type": "code",
   "execution_count": 2,
   "id": "31d6a6df",
   "metadata": {},
   "outputs": [],
   "source": [
    "df = pd.read_csv(\"C:/Users/ASUS/Desktop/YAZ KAMPI/8 - Derin Öğrenme/TSLA.csv\")"
   ]
  },
  {
   "cell_type": "code",
   "execution_count": 3,
   "id": "644f47d8",
   "metadata": {},
   "outputs": [
    {
     "data": {
      "text/html": [
       "<div>\n",
       "<style scoped>\n",
       "    .dataframe tbody tr th:only-of-type {\n",
       "        vertical-align: middle;\n",
       "    }\n",
       "\n",
       "    .dataframe tbody tr th {\n",
       "        vertical-align: top;\n",
       "    }\n",
       "\n",
       "    .dataframe thead th {\n",
       "        text-align: right;\n",
       "    }\n",
       "</style>\n",
       "<table border=\"1\" class=\"dataframe\">\n",
       "  <thead>\n",
       "    <tr style=\"text-align: right;\">\n",
       "      <th></th>\n",
       "      <th>Date</th>\n",
       "      <th>Open</th>\n",
       "      <th>High</th>\n",
       "      <th>Low</th>\n",
       "      <th>Close</th>\n",
       "      <th>Adj Close</th>\n",
       "      <th>Volume</th>\n",
       "    </tr>\n",
       "  </thead>\n",
       "  <tbody>\n",
       "    <tr>\n",
       "      <th>0</th>\n",
       "      <td>2010-06-29</td>\n",
       "      <td>19.000000</td>\n",
       "      <td>25.00</td>\n",
       "      <td>17.540001</td>\n",
       "      <td>23.889999</td>\n",
       "      <td>23.889999</td>\n",
       "      <td>18766300</td>\n",
       "    </tr>\n",
       "    <tr>\n",
       "      <th>1</th>\n",
       "      <td>2010-06-30</td>\n",
       "      <td>25.790001</td>\n",
       "      <td>30.42</td>\n",
       "      <td>23.299999</td>\n",
       "      <td>23.830000</td>\n",
       "      <td>23.830000</td>\n",
       "      <td>17187100</td>\n",
       "    </tr>\n",
       "    <tr>\n",
       "      <th>2</th>\n",
       "      <td>2010-07-01</td>\n",
       "      <td>25.000000</td>\n",
       "      <td>25.92</td>\n",
       "      <td>20.270000</td>\n",
       "      <td>21.959999</td>\n",
       "      <td>21.959999</td>\n",
       "      <td>8218800</td>\n",
       "    </tr>\n",
       "    <tr>\n",
       "      <th>3</th>\n",
       "      <td>2010-07-02</td>\n",
       "      <td>23.000000</td>\n",
       "      <td>23.10</td>\n",
       "      <td>18.709999</td>\n",
       "      <td>19.200001</td>\n",
       "      <td>19.200001</td>\n",
       "      <td>5139800</td>\n",
       "    </tr>\n",
       "    <tr>\n",
       "      <th>4</th>\n",
       "      <td>2010-07-06</td>\n",
       "      <td>20.000000</td>\n",
       "      <td>20.00</td>\n",
       "      <td>15.830000</td>\n",
       "      <td>16.110001</td>\n",
       "      <td>16.110001</td>\n",
       "      <td>6866900</td>\n",
       "    </tr>\n",
       "  </tbody>\n",
       "</table>\n",
       "</div>"
      ],
      "text/plain": [
       "         Date       Open   High        Low      Close  Adj Close    Volume\n",
       "0  2010-06-29  19.000000  25.00  17.540001  23.889999  23.889999  18766300\n",
       "1  2010-06-30  25.790001  30.42  23.299999  23.830000  23.830000  17187100\n",
       "2  2010-07-01  25.000000  25.92  20.270000  21.959999  21.959999   8218800\n",
       "3  2010-07-02  23.000000  23.10  18.709999  19.200001  19.200001   5139800\n",
       "4  2010-07-06  20.000000  20.00  15.830000  16.110001  16.110001   6866900"
      ]
     },
     "execution_count": 3,
     "metadata": {},
     "output_type": "execute_result"
    }
   ],
   "source": [
    "df.head()"
   ]
  },
  {
   "cell_type": "code",
   "execution_count": 4,
   "id": "bbaa8448",
   "metadata": {},
   "outputs": [],
   "source": [
    "def check_df(dataframe, head=5):\n",
    "    print(\"##################### Shape #####################\")\n",
    "    print(dataframe.shape)\n",
    "    print(\"##################### Types #####################\")\n",
    "    print(dataframe.dtypes)\n",
    "    print(\"##################### Head #####################\")\n",
    "    print(dataframe.head(head))\n",
    "    print(\"##################### Tail #####################\")\n",
    "    print(dataframe.tail(head))\n",
    "    print(\"##################### NA #####################\")\n",
    "    print(dataframe.isnull().sum())"
   ]
  },
  {
   "cell_type": "code",
   "execution_count": 5,
   "id": "fe37c06e",
   "metadata": {},
   "outputs": [
    {
     "name": "stdout",
     "output_type": "stream",
     "text": [
      "##################### Shape #####################\n",
      "(2416, 7)\n",
      "##################### Types #####################\n",
      "Date          object\n",
      "Open         float64\n",
      "High         float64\n",
      "Low          float64\n",
      "Close        float64\n",
      "Adj Close    float64\n",
      "Volume         int64\n",
      "dtype: object\n",
      "##################### Head #####################\n",
      "         Date       Open   High        Low      Close  Adj Close    Volume\n",
      "0  2010-06-29  19.000000  25.00  17.540001  23.889999  23.889999  18766300\n",
      "1  2010-06-30  25.790001  30.42  23.299999  23.830000  23.830000  17187100\n",
      "2  2010-07-01  25.000000  25.92  20.270000  21.959999  21.959999   8218800\n",
      "3  2010-07-02  23.000000  23.10  18.709999  19.200001  19.200001   5139800\n",
      "4  2010-07-06  20.000000  20.00  15.830000  16.110001  16.110001   6866900\n",
      "##################### Tail #####################\n",
      "            Date        Open        High         Low       Close   Adj Close  \\\n",
      "2411  2020-01-28  568.489990  576.809998  558.080017  566.900024  566.900024   \n",
      "2412  2020-01-29  575.690002  589.799988  567.429993  580.989990  580.989990   \n",
      "2413  2020-01-30  632.419983  650.880005  618.000000  640.809998  640.809998   \n",
      "2414  2020-01-31  640.000000  653.000000  632.520020  650.570007  650.570007   \n",
      "2415  2020-02-03  673.690002  786.140015  673.520020  780.000000  780.000000   \n",
      "\n",
      "        Volume  \n",
      "2411  11788500  \n",
      "2412  17801500  \n",
      "2413  29005700  \n",
      "2414  15719300  \n",
      "2415  47065000  \n",
      "##################### NA #####################\n",
      "Date         0\n",
      "Open         0\n",
      "High         0\n",
      "Low          0\n",
      "Close        0\n",
      "Adj Close    0\n",
      "Volume       0\n",
      "dtype: int64\n"
     ]
    }
   ],
   "source": [
    "check_df(df)"
   ]
  },
  {
   "cell_type": "code",
   "execution_count": 6,
   "id": "7fc3df84",
   "metadata": {},
   "outputs": [
    {
     "name": "stdout",
     "output_type": "stream",
     "text": [
      "<class 'pandas.core.frame.DataFrame'>\n",
      "RangeIndex: 2416 entries, 0 to 2415\n",
      "Data columns (total 7 columns):\n",
      " #   Column     Non-Null Count  Dtype  \n",
      "---  ------     --------------  -----  \n",
      " 0   Date       2416 non-null   object \n",
      " 1   Open       2416 non-null   float64\n",
      " 2   High       2416 non-null   float64\n",
      " 3   Low        2416 non-null   float64\n",
      " 4   Close      2416 non-null   float64\n",
      " 5   Adj Close  2416 non-null   float64\n",
      " 6   Volume     2416 non-null   int64  \n",
      "dtypes: float64(5), int64(1), object(1)\n",
      "memory usage: 132.3+ KB\n"
     ]
    }
   ],
   "source": [
    "df.info()"
   ]
  },
  {
   "cell_type": "code",
   "execution_count": 7,
   "id": "f52a2cb5",
   "metadata": {},
   "outputs": [
    {
     "data": {
      "text/plain": [
       "(2416, 7)"
      ]
     },
     "execution_count": 7,
     "metadata": {},
     "output_type": "execute_result"
    }
   ],
   "source": [
    "df.shape"
   ]
  },
  {
   "cell_type": "code",
   "execution_count": 8,
   "id": "300e853f",
   "metadata": {},
   "outputs": [],
   "source": [
    "df['Date'] = pd.to_datetime(df['Date'])"
   ]
  },
  {
   "cell_type": "code",
   "execution_count": 9,
   "id": "fc28cdf8",
   "metadata": {},
   "outputs": [
    {
     "name": "stdout",
     "output_type": "stream",
     "text": [
      "<class 'pandas.core.frame.DataFrame'>\n",
      "RangeIndex: 2416 entries, 0 to 2415\n",
      "Data columns (total 7 columns):\n",
      " #   Column     Non-Null Count  Dtype         \n",
      "---  ------     --------------  -----         \n",
      " 0   Date       2416 non-null   datetime64[ns]\n",
      " 1   Open       2416 non-null   float64       \n",
      " 2   High       2416 non-null   float64       \n",
      " 3   Low        2416 non-null   float64       \n",
      " 4   Close      2416 non-null   float64       \n",
      " 5   Adj Close  2416 non-null   float64       \n",
      " 6   Volume     2416 non-null   int64         \n",
      "dtypes: datetime64[ns](1), float64(5), int64(1)\n",
      "memory usage: 132.3 KB\n"
     ]
    }
   ],
   "source": [
    "df.info()"
   ]
  },
  {
   "cell_type": "code",
   "execution_count": 10,
   "id": "ef038e79",
   "metadata": {},
   "outputs": [],
   "source": [
    "tesla_df = df[['Date','Close']]"
   ]
  },
  {
   "cell_type": "code",
   "execution_count": 11,
   "id": "dcccc5ca",
   "metadata": {},
   "outputs": [
    {
     "data": {
      "text/html": [
       "<div>\n",
       "<style scoped>\n",
       "    .dataframe tbody tr th:only-of-type {\n",
       "        vertical-align: middle;\n",
       "    }\n",
       "\n",
       "    .dataframe tbody tr th {\n",
       "        vertical-align: top;\n",
       "    }\n",
       "\n",
       "    .dataframe thead th {\n",
       "        text-align: right;\n",
       "    }\n",
       "</style>\n",
       "<table border=\"1\" class=\"dataframe\">\n",
       "  <thead>\n",
       "    <tr style=\"text-align: right;\">\n",
       "      <th></th>\n",
       "      <th>Date</th>\n",
       "      <th>Close</th>\n",
       "    </tr>\n",
       "  </thead>\n",
       "  <tbody>\n",
       "    <tr>\n",
       "      <th>0</th>\n",
       "      <td>2010-06-29</td>\n",
       "      <td>23.889999</td>\n",
       "    </tr>\n",
       "    <tr>\n",
       "      <th>1</th>\n",
       "      <td>2010-06-30</td>\n",
       "      <td>23.830000</td>\n",
       "    </tr>\n",
       "    <tr>\n",
       "      <th>2</th>\n",
       "      <td>2010-07-01</td>\n",
       "      <td>21.959999</td>\n",
       "    </tr>\n",
       "    <tr>\n",
       "      <th>3</th>\n",
       "      <td>2010-07-02</td>\n",
       "      <td>19.200001</td>\n",
       "    </tr>\n",
       "    <tr>\n",
       "      <th>4</th>\n",
       "      <td>2010-07-06</td>\n",
       "      <td>16.110001</td>\n",
       "    </tr>\n",
       "  </tbody>\n",
       "</table>\n",
       "</div>"
      ],
      "text/plain": [
       "        Date      Close\n",
       "0 2010-06-29  23.889999\n",
       "1 2010-06-30  23.830000\n",
       "2 2010-07-01  21.959999\n",
       "3 2010-07-02  19.200001\n",
       "4 2010-07-06  16.110001"
      ]
     },
     "execution_count": 11,
     "metadata": {},
     "output_type": "execute_result"
    }
   ],
   "source": [
    "tesla_df.head()"
   ]
  },
  {
   "cell_type": "code",
   "execution_count": 12,
   "id": "3261fad7",
   "metadata": {},
   "outputs": [
    {
     "name": "stdout",
     "output_type": "stream",
     "text": [
      "2010-06-29 00:00:00\n",
      "2020-02-03 00:00:00\n"
     ]
    }
   ],
   "source": [
    "print(tesla_df['Date'].min())\n",
    "print(tesla_df['Date'].max())"
   ]
  },
  {
   "cell_type": "code",
   "execution_count": 13,
   "id": "56474d9d",
   "metadata": {},
   "outputs": [],
   "source": [
    "tesla_df.index = tesla_df['Date']"
   ]
  },
  {
   "cell_type": "code",
   "execution_count": 14,
   "id": "6a451b4a",
   "metadata": {},
   "outputs": [],
   "source": [
    "tesla_df.drop('Date', axis = 1, inplace = True)"
   ]
  },
  {
   "cell_type": "code",
   "execution_count": 15,
   "id": "7befb6ba",
   "metadata": {},
   "outputs": [
    {
     "data": {
      "text/html": [
       "<div>\n",
       "<style scoped>\n",
       "    .dataframe tbody tr th:only-of-type {\n",
       "        vertical-align: middle;\n",
       "    }\n",
       "\n",
       "    .dataframe tbody tr th {\n",
       "        vertical-align: top;\n",
       "    }\n",
       "\n",
       "    .dataframe thead th {\n",
       "        text-align: right;\n",
       "    }\n",
       "</style>\n",
       "<table border=\"1\" class=\"dataframe\">\n",
       "  <thead>\n",
       "    <tr style=\"text-align: right;\">\n",
       "      <th></th>\n",
       "      <th>Close</th>\n",
       "    </tr>\n",
       "    <tr>\n",
       "      <th>Date</th>\n",
       "      <th></th>\n",
       "    </tr>\n",
       "  </thead>\n",
       "  <tbody>\n",
       "    <tr>\n",
       "      <th>2010-06-29</th>\n",
       "      <td>23.889999</td>\n",
       "    </tr>\n",
       "    <tr>\n",
       "      <th>2010-06-30</th>\n",
       "      <td>23.830000</td>\n",
       "    </tr>\n",
       "    <tr>\n",
       "      <th>2010-07-01</th>\n",
       "      <td>21.959999</td>\n",
       "    </tr>\n",
       "    <tr>\n",
       "      <th>2010-07-02</th>\n",
       "      <td>19.200001</td>\n",
       "    </tr>\n",
       "    <tr>\n",
       "      <th>2010-07-06</th>\n",
       "      <td>16.110001</td>\n",
       "    </tr>\n",
       "    <tr>\n",
       "      <th>...</th>\n",
       "      <td>...</td>\n",
       "    </tr>\n",
       "    <tr>\n",
       "      <th>2020-01-28</th>\n",
       "      <td>566.900024</td>\n",
       "    </tr>\n",
       "    <tr>\n",
       "      <th>2020-01-29</th>\n",
       "      <td>580.989990</td>\n",
       "    </tr>\n",
       "    <tr>\n",
       "      <th>2020-01-30</th>\n",
       "      <td>640.809998</td>\n",
       "    </tr>\n",
       "    <tr>\n",
       "      <th>2020-01-31</th>\n",
       "      <td>650.570007</td>\n",
       "    </tr>\n",
       "    <tr>\n",
       "      <th>2020-02-03</th>\n",
       "      <td>780.000000</td>\n",
       "    </tr>\n",
       "  </tbody>\n",
       "</table>\n",
       "<p>2416 rows × 1 columns</p>\n",
       "</div>"
      ],
      "text/plain": [
       "                 Close\n",
       "Date                  \n",
       "2010-06-29   23.889999\n",
       "2010-06-30   23.830000\n",
       "2010-07-01   21.959999\n",
       "2010-07-02   19.200001\n",
       "2010-07-06   16.110001\n",
       "...                ...\n",
       "2020-01-28  566.900024\n",
       "2020-01-29  580.989990\n",
       "2020-01-30  640.809998\n",
       "2020-01-31  650.570007\n",
       "2020-02-03  780.000000\n",
       "\n",
       "[2416 rows x 1 columns]"
      ]
     },
     "execution_count": 15,
     "metadata": {},
     "output_type": "execute_result"
    }
   ],
   "source": [
    "tesla_df"
   ]
  },
  {
   "cell_type": "code",
   "execution_count": 16,
   "id": "95cefbc7",
   "metadata": {},
   "outputs": [],
   "source": [
    "result_df = tesla_df.copy()"
   ]
  },
  {
   "cell_type": "code",
   "execution_count": 17,
   "id": "b791b696",
   "metadata": {},
   "outputs": [
    {
     "data": {
      "image/png": "[encoded data removed]",
      "text/plain": [
       "<Figure size 1200x600 with 1 Axes>"
      ]
     },
     "metadata": {},
     "output_type": "display_data"
    }
   ],
   "source": [
    "plt.figure(figsize = (12,6))\n",
    "plt.plot(tesla_df['Close'])\n",
    "plt.ylabel('Stock Price')\n",
    "plt.xlabel('Time')\n",
    "plt.title('Tesla Stock Price')\n",
    "plt.show();"
   ]
  },
  {
   "cell_type": "code",
   "execution_count": 18,
   "id": "2b1bd75d",
   "metadata": {},
   "outputs": [
    {
     "data": {
      "text/plain": [
       "numpy.ndarray"
      ]
     },
     "execution_count": 18,
     "metadata": {},
     "output_type": "execute_result"
    }
   ],
   "source": [
    "tesla_df = tesla_df.values\n",
    "type(tesla_df)"
   ]
  },
  {
   "cell_type": "markdown",
   "id": "b559903c",
   "metadata": {},
   "source": [
    "### Kodun İşlevi\n",
    "\n",
    "```python\n",
    "tesla_df = tesla_df.values\n",
    "type(tesla_df)\n",
    "```\n",
    "\n",
    "1. **`tesla_df.values`**:\n",
    "   - Bu ifade, `tesla_df` veri çerçevesinin (`DataFrame`) numpy dizisine (`ndarray`) dönüştürülmesini sağlar. `values` özelliği, pandas veri çerçevesindeki verileri bir numpy dizisi olarak alır.\n",
    "\n",
    "2. **`type(tesla_df)`**:\n",
    "   - Bu ifade, `tesla_df` değişkeninin veri tipini kontrol eder. `tesla_df.values` ifadesinden sonra `tesla_df`, numpy dizisi (numpy array) olacaktır.\n",
    "\n",
    "### Neden Yapıyoruz?\n",
    "\n",
    "1. **Veri Analizi ve İşleme**:\n",
    "   - Bazı makine öğrenimi ve veri işleme kütüphaneleri, pandas veri çerçevelerini doğrudan işlemek yerine numpy dizilerini kullanır. Bu nedenle, veriyi numpy dizisine dönüştürmek, bu tür işlemler için uyumlu hale getirir.\n",
    "\n",
    "2. **Hız ve Verimlilik**:\n",
    "   - NumPy dizileri genellikle daha hızlı ve daha verimlidir çünkü doğrudan bellek üzerinde çalışır ve genellikle daha az bellek tüketir. Özellikle büyük veri setleri ile çalışırken, performans iyileştirmeleri sağlar.\n",
    "\n",
    "3. **Model Girdileri**:\n",
    "   - Makine öğrenimi modelleri genellikle numpy dizileriyle çalışır. Veri çerçevelerini numpy dizilerine dönüştürmek, verileri modelin gerektirdiği biçimde sunar.\n",
    "\n",
    "Bu dönüşüm, verilerin çeşitli makine öğrenimi ve veri işleme aşamalarında uyumlu ve etkili bir şekilde kullanılmasını sağlar."
   ]
  },
  {
   "cell_type": "code",
   "execution_count": 19,
   "id": "d642cd8a",
   "metadata": {},
   "outputs": [],
   "source": [
    "tesla_df = tesla_df.astype('float32')\n",
    "def split_data(dataframe, test_size):\n",
    "    position = int(round(len(dataframe) * (1-test_size)))\n",
    "    train = dataframe[:position]\n",
    "    test = dataframe[position:]\n",
    "    return train, test, position"
   ]
  },
  {
   "cell_type": "markdown",
   "id": "72f399ee",
   "metadata": {},
   "source": [
    "1. **Veri Tipi Dönüşümü (`astype('float32')`):** \n",
    "   - `tesla_df = tesla_df.astype('float32')`: Veri çerçevesindeki tüm sayısal veriler `float32` veri tipine dönüştürülüyor. Bu, özellikle büyük veri kümelerinde belleği verimli kullanmak ve bazı makine öğrenimi modelleriyle uyumlu çalışmak için yapılır.\n",
    "\n",
    "2. **Veriyi Eğitim ve Test Setlerine Ayırma:**\n",
    "   - `split_data` fonksiyonu, verilen `dataframe`'i bir `test_size` oranına göre iki parçaya böler: \n",
    "     - **Eğitim Seti (`train`)**: Modelin öğrenmesi için kullanılan veri seti.\n",
    "     - **Test Seti (`test`)**: Modelin doğruluğunu ve genel performansını değerlendirmek için kullanılan veri seti.\n",
    "   - `position = int(round(len(dataframe) * (1-test_size)))`: Bu satır, veri setini hangi noktada böleceğinizi belirler. Örneğin, `test_size` 0.2 ise, verinin %80'i eğitim setine, %20'si ise test setine ayrılır.\n",
    "   - `train = dataframe[:position]`: `position`'a kadar olan veriler eğitim seti olarak alınır.\n",
    "   - `test = dataframe[position:]`: `position`'dan sonraki veriler test seti olarak alınır.\n",
    "\n",
    "**Neden Yapıyoruz?**\n",
    "\n",
    "- **Eğitim ve Test Setlerine Ayırma:** Modelin performansını değerlendirebilmek için veriyi eğitim ve test setlerine ayırmak gerekir. Eğitim setiyle model eğitilir, test setiyle de modelin gerçek dünyadaki veriler üzerindeki başarımı ölçülür.\n",
    "- **Veri Tipi Dönüşümü:** `float32` veri tipine dönüşüm, verilerin hassasiyetini koruyarak hesaplamaların daha hızlı ve hafif yapılmasını sağlar.\n",
    "\n",
    "Bu adımlar, makine öğrenimi modellerinin geliştirilmesi ve test edilmesi sürecinde yaygın olarak kullanılır."
   ]
  },
  {
   "cell_type": "markdown",
   "id": "6021057f",
   "metadata": {},
   "source": [
    "**train_test_split veriyi rastgele böler. Bizim projemiz zaman serisi projesi olduğu için rastgele bölünmemesi gerekiyor.**\n",
    "\n",
    "**Çünkü bir değer kendinden önce değerlere bağlı.**"
   ]
  },
  {
   "cell_type": "code",
   "execution_count": 20,
   "id": "63a306b7",
   "metadata": {},
   "outputs": [],
   "source": [
    "train, test, pos = split_data(tesla_df, 0.2)"
   ]
  },
  {
   "cell_type": "code",
   "execution_count": 21,
   "id": "028bcab1",
   "metadata": {},
   "outputs": [
    {
     "name": "stdout",
     "output_type": "stream",
     "text": [
      "(1933, 1) (483, 1)\n"
     ]
    }
   ],
   "source": [
    "print(train.shape, test.shape)"
   ]
  },
  {
   "cell_type": "code",
   "execution_count": 22,
   "id": "bd28ff0f",
   "metadata": {},
   "outputs": [],
   "source": [
    "scaler_train = MinMaxScaler(feature_range= (0,1))\n",
    "train = scaler_train.fit_transform(train)"
   ]
  },
  {
   "cell_type": "code",
   "execution_count": 23,
   "id": "436d0175",
   "metadata": {},
   "outputs": [],
   "source": [
    "scaler_test = MinMaxScaler(feature_range= (0,1))\n",
    "test = scaler_test.fit_transform(test)"
   ]
  },
  {
   "cell_type": "markdown",
   "id": "458d23c1",
   "metadata": {},
   "source": [
    "**Ölçeğin 0 - 1 arasında olması performansı pozitif etkiler**"
   ]
  },
  {
   "cell_type": "code",
   "execution_count": 24,
   "id": "c1253972",
   "metadata": {},
   "outputs": [
    {
     "data": {
      "text/plain": [
       "(array([[0.02191224],\n",
       "        [0.02174973],\n",
       "        [0.01668472],\n",
       "        [0.0092091 ],\n",
       "        [0.00083966]], dtype=float32),\n",
       " array([[0.25685903],\n",
       "        [0.24829045],\n",
       "        [0.25511202],\n",
       "        [0.24978784],\n",
       "        [0.2465767 ]], dtype=float32))"
      ]
     },
     "execution_count": 24,
     "metadata": {},
     "output_type": "execute_result"
    }
   ],
   "source": [
    "train[:5], test[:5]"
   ]
  },
  {
   "cell_type": "code",
   "execution_count": 25,
   "id": "7a51a32e",
   "metadata": {},
   "outputs": [],
   "source": [
    "lookback = 20"
   ]
  },
  {
   "cell_type": "code",
   "execution_count": 26,
   "id": "30e97e9f",
   "metadata": {},
   "outputs": [],
   "source": [
    "def create_features(data, lookback):\n",
    "    X, Y = [], []\n",
    "    for i in range(lookback, len(data)):\n",
    "        X.append(data[i-lookback:i, 0])\n",
    "        Y.append(data[i,0])\n",
    "\n",
    "    return np.array(X), np.array(Y)"
   ]
  },
  {
   "cell_type": "markdown",
   "id": "81c8c931",
   "metadata": {},
   "source": [
    "### Kodun Açıklaması\n",
    "\n",
    "```python\n",
    "def create_features(data, lookback):\n",
    "    X, Y = [], []\n",
    "    for i in range(lookback, len(data)):\n",
    "        X.append(data[i-lookback:i, 0])\n",
    "        Y.append(data[i,0])\n",
    "\n",
    "    return np.array(X), np.array(Y)\n",
    "```\n",
    "\n",
    "1. **Fonksiyon Tanımı**:\n",
    "   - `create_features(data, lookback)` fonksiyonu, zaman serisi verilerini özellikler (X) ve hedefler (Y) olarak ikiye ayırarak makine öğrenimi modellerinde kullanılacak veriler oluşturur. `data` zaman serisi verilerini içerir ve `lookback` ise geçmiş verilerin kaç adım geriden geleceğe tahmin yapmak için kullanılacağını belirler.\n",
    "\n",
    "2. **Boş Listeler Oluşturma**:\n",
    "   - `X, Y = [], []`: `X` ve `Y` listeleri boş olarak başlatılır. `X` listesi özellikleri (input) tutarken, `Y` listesi hedefleri (output) tutar.\n",
    "\n",
    "3. **For Döngüsü ile Özellik ve Hedef Oluşturma**:\n",
    "   - `for i in range(lookback, len(data)):`: Bu döngü, `lookback` adımından başlayarak veri uzunluğunun sonuna kadar iterasyon yapar. `lookback` adımı, modelin geçmiş verileri kaç adım geri alarak tahmin yapacağını belirler.\n",
    "   - `X.append(data[i-lookback:i, 0])`: Bu satır, mevcut `i` konumuna göre `lookback` adım geriden verileri alır ve `X` listesine ekler. `data[i-lookback:i, 0]`, `i-lookback` ile `i` arasındaki verileri seçer.\n",
    "   - `Y.append(data[i, 0])`: Bu satır, mevcut `i` konumundaki veriyi `Y` listesine ekler. Bu değer, `X`'deki geçmiş verilerin tahmin edilmesi gereken hedef değerdir.\n",
    "\n",
    "4. **NumPy Dizilerine Dönüştürme**:\n",
    "   - `return np.array(X), np.array(Y)`: `X` ve `Y` listeleri NumPy dizilerine dönüştürülür ve geri döndürülür. NumPy dizileri, makine öğrenimi algoritmalarının ve çeşitli veri işleme işlemlerinin daha verimli bir şekilde çalışmasını sağlar.\n",
    "\n",
    "### Özet\n",
    "Bu fonksiyon, zaman serisi verilerini belirli bir geçmiş uzunluğu (`lookback`) kullanarak özellikler (`X`) ve hedefler (`Y`) oluşturur. Özellikle LSTM ve diğer RNN türleri için geçmiş verilerden tahmin yapmak üzere kullanılan veri setlerinin hazırlanmasına yardımcı olur."
   ]
  },
  {
   "cell_type": "code",
   "execution_count": 27,
   "id": "3d148f44",
   "metadata": {},
   "outputs": [],
   "source": [
    "# Train veri seti\n",
    "X_train, y_train = create_features(train, lookback)"
   ]
  },
  {
   "cell_type": "code",
   "execution_count": 28,
   "id": "553de1fd",
   "metadata": {},
   "outputs": [],
   "source": [
    "# Test veri seti\n",
    "X_test, y_test = create_features(test, lookback)"
   ]
  },
  {
   "cell_type": "code",
   "execution_count": 29,
   "id": "c4b3d9c9",
   "metadata": {},
   "outputs": [
    {
     "name": "stdout",
     "output_type": "stream",
     "text": [
      "(1913, 20) (1913,) (463, 20) (463,)\n"
     ]
    }
   ],
   "source": [
    "print(X_train.shape, y_train.shape, X_test.shape, y_test.shape)"
   ]
  },
  {
   "cell_type": "code",
   "execution_count": 30,
   "id": "cec10e30",
   "metadata": {},
   "outputs": [],
   "source": [
    "X_train = np.reshape(X_train, (X_train.shape[0], 1, X_train.shape[1]))\n",
    "X_test = np.reshape(X_test, (X_test.shape[0], 1, X_test.shape[1]))"
   ]
  },
  {
   "cell_type": "code",
   "execution_count": 31,
   "id": "7fbb2860",
   "metadata": {},
   "outputs": [],
   "source": [
    "y_train = y_train.reshape(-1,1)\n",
    "y_test = y_test.reshape(-1,1)"
   ]
  },
  {
   "cell_type": "code",
   "execution_count": 32,
   "id": "77570b1b",
   "metadata": {},
   "outputs": [
    {
     "name": "stdout",
     "output_type": "stream",
     "text": [
      "(1913, 1, 20) (1913, 1) (463, 1, 20) (463, 1)\n"
     ]
    }
   ],
   "source": [
    "print(X_train.shape, y_train.shape, X_test.shape, y_test.shape)"
   ]
  },
  {
   "cell_type": "code",
   "execution_count": 33,
   "id": "3990cd10",
   "metadata": {},
   "outputs": [],
   "source": [
    "model = Sequential()\n",
    "\n",
    "model.add(LSTM(units = 50,\n",
    "               activation = 'relu',\n",
    "               input_shape = (X_train.shape[1],lookback)))\n",
    "\n",
    "model.add(Dropout(0.2))\n",
    "\n",
    "model.add(Dense(1))"
   ]
  },
  {
   "cell_type": "code",
   "execution_count": 34,
   "id": "b17049ed",
   "metadata": {},
   "outputs": [
    {
     "data": {
      "text/html": [
       "<pre style=\"white-space:pre;overflow-x:auto;line-height:normal;font-family:Menlo,'DejaVu Sans Mono',consolas,'Courier New',monospace\"><span style=\"font-weight: bold\">Model: \"sequential\"</span>\n",
       "</pre>\n"
      ],
      "text/plain": [
       "\u001b[1mModel: \"sequential\"\u001b[0m\n"
      ]
     },
     "metadata": {},
     "output_type": "display_data"
    },
    {
     "data": {
      "text/html": [
       "<pre style=\"white-space:pre;overflow-x:auto;line-height:normal;font-family:Menlo,'DejaVu Sans Mono',consolas,'Courier New',monospace\">┏━━━━━━━━━━━━━━━━━━━━━━━━━━━━━━━━━━━━━━┳━━━━━━━━━━━━━━━━━━━━━━━━━━━━━┳━━━━━━━━━━━━━━━━━┓\n",
       "┃<span style=\"font-weight: bold\"> Layer (type)                         </span>┃<span style=\"font-weight: bold\"> Output Shape                </span>┃<span style=\"font-weight: bold\">         Param # </span>┃\n",
       "┡━━━━━━━━━━━━━━━━━━━━━━━━━━━━━━━━━━━━━━╇━━━━━━━━━━━━━━━━━━━━━━━━━━━━━╇━━━━━━━━━━━━━━━━━┩\n",
       "│ lstm (<span style=\"color: #0087ff; text-decoration-color: #0087ff\">LSTM</span>)                          │ (<span style=\"color: #00d7ff; text-decoration-color: #00d7ff\">None</span>, <span style=\"color: #00af00; text-decoration-color: #00af00\">50</span>)                  │          <span style=\"color: #00af00; text-decoration-color: #00af00\">14,200</span> │\n",
       "├──────────────────────────────────────┼─────────────────────────────┼─────────────────┤\n",
       "│ dropout (<span style=\"color: #0087ff; text-decoration-color: #0087ff\">Dropout</span>)                    │ (<span style=\"color: #00d7ff; text-decoration-color: #00d7ff\">None</span>, <span style=\"color: #00af00; text-decoration-color: #00af00\">50</span>)                  │               <span style=\"color: #00af00; text-decoration-color: #00af00\">0</span> │\n",
       "├──────────────────────────────────────┼─────────────────────────────┼─────────────────┤\n",
       "│ dense (<span style=\"color: #0087ff; text-decoration-color: #0087ff\">Dense</span>)                        │ (<span style=\"color: #00d7ff; text-decoration-color: #00d7ff\">None</span>, <span style=\"color: #00af00; text-decoration-color: #00af00\">1</span>)                   │              <span style=\"color: #00af00; text-decoration-color: #00af00\">51</span> │\n",
       "└──────────────────────────────────────┴─────────────────────────────┴─────────────────┘\n",
       "</pre>\n"
      ],
      "text/plain": [
       "┏━━━━━━━━━━━━━━━━━━━━━━━━━━━━━━━━━━━━━━┳━━━━━━━━━━━━━━━━━━━━━━━━━━━━━┳━━━━━━━━━━━━━━━━━┓\n",
       "┃\u001b[1m \u001b[0m\u001b[1mLayer (type)                        \u001b[0m\u001b[1m \u001b[0m┃\u001b[1m \u001b[0m\u001b[1mOutput Shape               \u001b[0m\u001b[1m \u001b[0m┃\u001b[1m \u001b[0m\u001b[1m        Param #\u001b[0m\u001b[1m \u001b[0m┃\n",
       "┡━━━━━━━━━━━━━━━━━━━━━━━━━━━━━━━━━━━━━━╇━━━━━━━━━━━━━━━━━━━━━━━━━━━━━╇━━━━━━━━━━━━━━━━━┩\n",
       "│ lstm (\u001b[38;5;33mLSTM\u001b[0m)                          │ (\u001b[38;5;45mNone\u001b[0m, \u001b[38;5;34m50\u001b[0m)                  │          \u001b[38;5;34m14,200\u001b[0m │\n",
       "├──────────────────────────────────────┼─────────────────────────────┼─────────────────┤\n",
       "│ dropout (\u001b[38;5;33mDropout\u001b[0m)                    │ (\u001b[38;5;45mNone\u001b[0m, \u001b[38;5;34m50\u001b[0m)                  │               \u001b[38;5;34m0\u001b[0m │\n",
       "├──────────────────────────────────────┼─────────────────────────────┼─────────────────┤\n",
       "│ dense (\u001b[38;5;33mDense\u001b[0m)                        │ (\u001b[38;5;45mNone\u001b[0m, \u001b[38;5;34m1\u001b[0m)                   │              \u001b[38;5;34m51\u001b[0m │\n",
       "└──────────────────────────────────────┴─────────────────────────────┴─────────────────┘\n"
      ]
     },
     "metadata": {},
     "output_type": "display_data"
    },
    {
     "data": {
      "text/html": [
       "<pre style=\"white-space:pre;overflow-x:auto;line-height:normal;font-family:Menlo,'DejaVu Sans Mono',consolas,'Courier New',monospace\"><span style=\"font-weight: bold\"> Total params: </span><span style=\"color: #00af00; text-decoration-color: #00af00\">14,251</span> (55.67 KB)\n",
       "</pre>\n"
      ],
      "text/plain": [
       "\u001b[1m Total params: \u001b[0m\u001b[38;5;34m14,251\u001b[0m (55.67 KB)\n"
      ]
     },
     "metadata": {},
     "output_type": "display_data"
    },
    {
     "data": {
      "text/html": [
       "<pre style=\"white-space:pre;overflow-x:auto;line-height:normal;font-family:Menlo,'DejaVu Sans Mono',consolas,'Courier New',monospace\"><span style=\"font-weight: bold\"> Trainable params: </span><span style=\"color: #00af00; text-decoration-color: #00af00\">14,251</span> (55.67 KB)\n",
       "</pre>\n"
      ],
      "text/plain": [
       "\u001b[1m Trainable params: \u001b[0m\u001b[38;5;34m14,251\u001b[0m (55.67 KB)\n"
      ]
     },
     "metadata": {},
     "output_type": "display_data"
    },
    {
     "data": {
      "text/html": [
       "<pre style=\"white-space:pre;overflow-x:auto;line-height:normal;font-family:Menlo,'DejaVu Sans Mono',consolas,'Courier New',monospace\"><span style=\"font-weight: bold\"> Non-trainable params: </span><span style=\"color: #00af00; text-decoration-color: #00af00\">0</span> (0.00 B)\n",
       "</pre>\n"
      ],
      "text/plain": [
       "\u001b[1m Non-trainable params: \u001b[0m\u001b[38;5;34m0\u001b[0m (0.00 B)\n"
      ]
     },
     "metadata": {},
     "output_type": "display_data"
    }
   ],
   "source": [
    "model.summary()"
   ]
  },
  {
   "cell_type": "code",
   "execution_count": 35,
   "id": "b569b9e7",
   "metadata": {},
   "outputs": [],
   "source": [
    "# Optimizasyon ve Değerlendirme Metrikleri Ayarlanması\n",
    "model.compile(loss = 'mean_squared_error', optimizer = 'adam')"
   ]
  },
  {
   "cell_type": "code",
   "execution_count": 56,
   "id": "87c37be4",
   "metadata": {},
   "outputs": [],
   "source": [
    "callbacks = [EarlyStopping(monitor='val_loss', patience=3, verbose=1, mode=\"min\")]"
   ]
  },
  {
   "cell_type": "markdown",
   "id": "8560bffc",
   "metadata": {},
   "source": [
    "### `EarlyStopping` Callback\n",
    "`EarlyStopping`, modelin eğitim sürecinde, belirli bir kriteri izleyerek modelin aşırı uyumunu (overfitting) önlemeye yardımcı olan bir geri çağırma (callback) fonksiyonudur. Eğitim sürecini belirli bir koşul sağlanana kadar devam ettirir ve koşul sağlanmadığında eğitimi durdurur.\n",
    "\n",
    "### Parametreler:\n",
    "- **`monitor='val_loss'`**: Bu parametre, erken durdurma için hangi metriklerin izleneceğini belirtir. Bu örnekte, modelin doğrulama (validation) kaybı (`val_loss`) izlenir. Eğitim sırasında modelin doğrulama setindeki performansı takip edilir ve bu metrikte bir iyileşme gözlemlenmezse eğitim durdurulur.\n",
    "\n",
    "- **`patience=3`**: Bu parametre, belirli bir sayıda epoch (dönem) boyunca izlenen metrikte herhangi bir iyileşme gözlemlenmediğinde eğitim sürecini durdurur. Burada, `patience=3` ayarı, doğrulama kaybında iyileşme gözlemlenmediğinde 3 epoch boyunca eğitimin devam edeceğini belirtir. Yani, doğrulama kaybı 3 ardışık epoch boyunca azalmıyorsa, eğitim durdurulacaktır.\n",
    "\n",
    "- **`verbose=1`**: Bu parametre, eğitim sırasında erken durdurmanın ne kadar ayrıntılı olarak rapor edileceğini kontrol eder. `verbose=1` ayarı, erken durdurma olayları hakkında bilgi verir (örneğin, erken durdurma koşulunun ne zaman sağlandığına dair mesajlar).\n",
    "\n",
    "- **`mode=\"min\"`**: Bu parametre, izlenen metrik için hangi yönde iyileşme beklenip beklenmediğini belirtir. `mode=\"min\"` ayarı, izlenen metrik (bu durumda `val_loss`) minimuma inmeye çalışıldığı anlamına gelir. Yani, doğrulama kaybı azalmadığında eğitim durdurulacaktır.\n",
    "\n",
    "### Özet:\n",
    "Bu kod, modelin eğitim sürecini erken durdurmak için `EarlyStopping` callback'ini kullanır. `val_loss` metrik değerinin belirli bir süre boyunca iyileşmediği durumlarda, modelin eğitimini durdurur. Bu, modelin aşırı uyumunu önlemeye yardımcı olur ve eğitim süresini optimize eder."
   ]
  },
  {
   "cell_type": "code",
   "execution_count": 37,
   "id": "deda958e",
   "metadata": {},
   "outputs": [
    {
     "name": "stdout",
     "output_type": "stream",
     "text": [
      "Epoch 1/100\n",
      "\u001b[1m96/96\u001b[0m \u001b[32m━━━━━━━━━━━━━━━━━━━━\u001b[0m\u001b[37m\u001b[0m \u001b[1m2s\u001b[0m 4ms/step - loss: 0.0041 - val_loss: 0.0039\n",
      "Epoch 2/100\n",
      "\u001b[1m96/96\u001b[0m \u001b[32m━━━━━━━━━━━━━━━━━━━━\u001b[0m\u001b[37m\u001b[0m \u001b[1m0s\u001b[0m 1ms/step - loss: 0.0042 - val_loss: 0.0032\n",
      "Epoch 3/100\n",
      "\u001b[1m96/96\u001b[0m \u001b[32m━━━━━━━━━━━━━━━━━━━━\u001b[0m\u001b[37m\u001b[0m \u001b[1m0s\u001b[0m 2ms/step - loss: 0.0027 - val_loss: 0.0028\n",
      "Epoch 4/100\n",
      "\u001b[1m96/96\u001b[0m \u001b[32m━━━━━━━━━━━━━━━━━━━━\u001b[0m\u001b[37m\u001b[0m \u001b[1m0s\u001b[0m 1ms/step - loss: 0.0021 - val_loss: 0.0028\n",
      "Epoch 5/100\n",
      "\u001b[1m96/96\u001b[0m \u001b[32m━━━━━━━━━━━━━━━━━━━━\u001b[0m\u001b[37m\u001b[0m \u001b[1m0s\u001b[0m 1ms/step - loss: 0.0017 - val_loss: 0.0025\n",
      "Epoch 6/100\n",
      "\u001b[1m96/96\u001b[0m \u001b[32m━━━━━━━━━━━━━━━━━━━━\u001b[0m\u001b[37m\u001b[0m \u001b[1m0s\u001b[0m 1ms/step - loss: 0.0017 - val_loss: 0.0023\n",
      "Epoch 7/100\n",
      "\u001b[1m96/96\u001b[0m \u001b[32m━━━━━━━━━━━━━━━━━━━━\u001b[0m\u001b[37m\u001b[0m \u001b[1m0s\u001b[0m 1ms/step - loss: 0.0015 - val_loss: 0.0023\n",
      "Epoch 8/100\n",
      "\u001b[1m96/96\u001b[0m \u001b[32m━━━━━━━━━━━━━━━━━━━━\u001b[0m\u001b[37m\u001b[0m \u001b[1m0s\u001b[0m 1ms/step - loss: 0.0015 - val_loss: 0.0021\n",
      "Epoch 9/100\n",
      "\u001b[1m96/96\u001b[0m \u001b[32m━━━━━━━━━━━━━━━━━━━━\u001b[0m\u001b[37m\u001b[0m \u001b[1m0s\u001b[0m 1ms/step - loss: 0.0015 - val_loss: 0.0021\n",
      "Epoch 10/100\n",
      "\u001b[1m96/96\u001b[0m \u001b[32m━━━━━━━━━━━━━━━━━━━━\u001b[0m\u001b[37m\u001b[0m \u001b[1m0s\u001b[0m 1ms/step - loss: 0.0016 - val_loss: 0.0022\n",
      "Epoch 11/100\n",
      "\u001b[1m96/96\u001b[0m \u001b[32m━━━━━━━━━━━━━━━━━━━━\u001b[0m\u001b[37m\u001b[0m \u001b[1m0s\u001b[0m 1ms/step - loss: 0.0016 - val_loss: 0.0023\n",
      "Epoch 11: early stopping\n"
     ]
    }
   ],
   "source": [
    "history = model.fit(x=X_train,\n",
    "                    y=y_train,\n",
    "                    epochs=100,\n",
    "                    batch_size=20,\n",
    "                    validation_data=(X_test, y_test),\n",
    "                    callbacks = callbacks,\n",
    "                    shuffle=False)"
   ]
  },
  {
   "cell_type": "code",
   "execution_count": 38,
   "id": "a768c19b",
   "metadata": {},
   "outputs": [
    {
     "data": {
      "image/png": "[encoded data removed]",
      "text/plain": [
       "<Figure size 2000x500 with 1 Axes>"
      ]
     },
     "metadata": {},
     "output_type": "display_data"
    }
   ],
   "source": [
    "plt.figure(figsize=(20, 5))\n",
    "plt.subplot(1, 2, 2)\n",
    "plt.plot(history.history['loss'], label='Training Loss')\n",
    "plt.plot(history.history['val_loss'], label='Validation Loss')\n",
    "plt.legend(loc='upper right')\n",
    "plt.xlabel('Epoch', fontsize=16)\n",
    "plt.ylabel('Loss', fontsize=16)\n",
    "plt.ylim([0, max(plt.ylim())])\n",
    "plt.title('Training and Validation Loss', fontsize=16)\n",
    "plt.show()"
   ]
  },
  {
   "cell_type": "markdown",
   "id": "3effb0a5",
   "metadata": {},
   "source": [
    "********"
   ]
  },
  {
   "cell_type": "code",
   "execution_count": 39,
   "id": "b8c0c329",
   "metadata": {},
   "outputs": [
    {
     "name": "stdout",
     "output_type": "stream",
     "text": [
      "\u001b[1m463/463\u001b[0m \u001b[32m━━━━━━━━━━━━━━━━━━━━\u001b[0m\u001b[37m\u001b[0m \u001b[1m0s\u001b[0m 616us/step - loss: 0.0018\n"
     ]
    }
   ],
   "source": [
    "loss = model.evaluate(X_test, y_test, batch_size = 1)"
   ]
  },
  {
   "cell_type": "markdown",
   "id": "6f998aca",
   "metadata": {},
   "source": [
    "Kodunuzun amacı modelin test veri setindeki performansını değerlendirmektir. Kodun detaylarına bakalım:\n",
    "\n",
    "```python\n",
    "loss = model.evaluate(X_test, y_test, batch_size=1)\n",
    "```\n",
    "\n",
    "### Açıklama:\n",
    "\n",
    "- **`model.evaluate()`**: Bu fonksiyon, modelin test veri setindeki performansını değerlendirir ve kayıp (loss) ile diğer belirtilmişse metrikleri hesaplar. Bu, modelin test veri setinde ne kadar iyi performans gösterdiğini anlamak için kullanılır.\n",
    "\n",
    "- **`X_test`**: Test veri setindeki giriş verilerini temsil eder. Bu, modelin tahmin yapması için kullandığı veridir.\n",
    "\n",
    "- **`y_test`**: Test veri setindeki gerçek etiketleri veya hedef değerleri temsil eder. Modelin tahminlerinin ne kadar doğru olduğunu ölçmek için karşılaştırılan gerçek sonuçlardır.\n",
    "\n",
    "- **`batch_size=1`**: Bu parametre, test verilerini değerlendirirken modelin kaç örneği aynı anda işleyeceğini belirtir. Burada `batch_size=1` olarak ayarlanmış, bu da her seferinde bir örneğin işlendiği anlamına gelir. Bu, değerlendirme işleminin daha ayrıntılı yapılmasını sağlar ama genellikle performans açısından daha yavaş olabilir.\n",
    "\n",
    "### Çıktı:\n",
    "\n",
    "- **`loss`**: Bu değişken, `model.evaluate()` fonksiyonundan dönen değeri temsil eder. Genellikle, bu değer test kaybı (loss) olarak adlandırılır. Ayrıca, modelin değerlendirmesi sırasında belirtilmişse diğer metrikler de dönebilir. Kayıp değeri, modelin test verileri üzerindeki performansını gösterir; ne kadar düşükse, model o kadar iyi performans göstermiştir.\n",
    "\n",
    "### Kullanım Amacı:\n",
    "\n",
    "Bu kod, modelin test veri setinde ne kadar iyi performans gösterdiğini anlamak için kullanılır. Test kaybını ve/veya metrikleri elde ederek, modelin genel başarısını değerlendirebilir ve gerektiğinde iyileştirme yapabilirsiniz. Test kaybı, genellikle modelin ne kadar iyi genelleştirme yaptığını gösterir; yani, eğitim verisine fazla aşırı uyum sağlanıp sağlanmadığını anlamak için önemli bir ölçüttür."
   ]
  },
  {
   "cell_type": "code",
   "execution_count": 40,
   "id": "c3632a32",
   "metadata": {},
   "outputs": [
    {
     "name": "stdout",
     "output_type": "stream",
     "text": [
      "\n",
      "Test Loss : 0.2%\n"
     ]
    }
   ],
   "source": [
    "print(\"\\nTest Loss : %.1f%%\" % (100.0 * loss))"
   ]
  },
  {
   "cell_type": "code",
   "execution_count": 41,
   "id": "2733d6f0",
   "metadata": {},
   "outputs": [
    {
     "name": "stdout",
     "output_type": "stream",
     "text": [
      "\u001b[1m60/60\u001b[0m \u001b[32m━━━━━━━━━━━━━━━━━━━━\u001b[0m\u001b[37m\u001b[0m \u001b[1m0s\u001b[0m 3ms/step\n",
      "\u001b[1m15/15\u001b[0m \u001b[32m━━━━━━━━━━━━━━━━━━━━\u001b[0m\u001b[37m\u001b[0m \u001b[1m0s\u001b[0m 845us/step\n"
     ]
    }
   ],
   "source": [
    "train_predict = model.predict(X_train)\n",
    "test_predict = model.predict(X_test)"
   ]
  },
  {
   "cell_type": "code",
   "execution_count": 58,
   "id": "01bb90e3",
   "metadata": {},
   "outputs": [],
   "source": [
    "train_predict = scaler_train.inverse_transform(train_predict) \n",
    "test_predict = scaler_test.inverse_transform(test_predict) \n",
    "\n",
    "# bu değerler normalde 0 - 1 arasındaydı. Eski haline dönüştürmüş olduk."
   ]
  },
  {
   "cell_type": "code",
   "execution_count": 43,
   "id": "df8c8330",
   "metadata": {},
   "outputs": [],
   "source": [
    "y_train = scaler_train.inverse_transform(y_train) \n",
    "y_test = scaler_test.inverse_transform(y_test) "
   ]
  },
  {
   "cell_type": "code",
   "execution_count": 44,
   "id": "5bff8852",
   "metadata": {},
   "outputs": [],
   "source": [
    "# Train veri setine ait RMSE değeri\n",
    "train_rmse = np.sqrt(mean_squared_error(y_train, train_predict))"
   ]
  },
  {
   "cell_type": "code",
   "execution_count": 45,
   "id": "c503a9d7",
   "metadata": {},
   "outputs": [],
   "source": [
    "# Test veri setine ait RMSE değeri\n",
    "test_rmse = np.sqrt(mean_squared_error(y_test, test_predict))"
   ]
  },
  {
   "cell_type": "code",
   "execution_count": 46,
   "id": "51d4ecb8",
   "metadata": {},
   "outputs": [
    {
     "name": "stdout",
     "output_type": "stream",
     "text": [
      "Eğitim RMSE: 13.016621589660645\n",
      "Test RMSE: 29.07655906677246\n"
     ]
    }
   ],
   "source": [
    "print(f\"Eğitim RMSE: {train_rmse}\")\n",
    "print(f\"Test RMSE: {test_rmse}\")"
   ]
  },
  {
   "cell_type": "code",
   "execution_count": 47,
   "id": "72b281ec",
   "metadata": {},
   "outputs": [],
   "source": [
    "train_prediction_df = result_df[lookback:pos]"
   ]
  },
  {
   "cell_type": "code",
   "execution_count": 48,
   "id": "80c618fa",
   "metadata": {},
   "outputs": [
    {
     "data": {
      "text/html": [
       "<div>\n",
       "<style scoped>\n",
       "    .dataframe tbody tr th:only-of-type {\n",
       "        vertical-align: middle;\n",
       "    }\n",
       "\n",
       "    .dataframe tbody tr th {\n",
       "        vertical-align: top;\n",
       "    }\n",
       "\n",
       "    .dataframe thead th {\n",
       "        text-align: right;\n",
       "    }\n",
       "</style>\n",
       "<table border=\"1\" class=\"dataframe\">\n",
       "  <thead>\n",
       "    <tr style=\"text-align: right;\">\n",
       "      <th></th>\n",
       "      <th>Close</th>\n",
       "    </tr>\n",
       "    <tr>\n",
       "      <th>Date</th>\n",
       "      <th></th>\n",
       "    </tr>\n",
       "  </thead>\n",
       "  <tbody>\n",
       "    <tr>\n",
       "      <th>2010-07-28</th>\n",
       "      <td>20.719999</td>\n",
       "    </tr>\n",
       "    <tr>\n",
       "      <th>2010-07-29</th>\n",
       "      <td>20.350000</td>\n",
       "    </tr>\n",
       "    <tr>\n",
       "      <th>2010-07-30</th>\n",
       "      <td>19.940001</td>\n",
       "    </tr>\n",
       "    <tr>\n",
       "      <th>2010-08-02</th>\n",
       "      <td>20.920000</td>\n",
       "    </tr>\n",
       "    <tr>\n",
       "      <th>2010-08-03</th>\n",
       "      <td>21.950001</td>\n",
       "    </tr>\n",
       "  </tbody>\n",
       "</table>\n",
       "</div>"
      ],
      "text/plain": [
       "                Close\n",
       "Date                 \n",
       "2010-07-28  20.719999\n",
       "2010-07-29  20.350000\n",
       "2010-07-30  19.940001\n",
       "2010-08-02  20.920000\n",
       "2010-08-03  21.950001"
      ]
     },
     "execution_count": 48,
     "metadata": {},
     "output_type": "execute_result"
    }
   ],
   "source": [
    "train_prediction_df.head()"
   ]
  },
  {
   "cell_type": "code",
   "execution_count": 49,
   "id": "7ca3b862",
   "metadata": {},
   "outputs": [],
   "source": [
    "train_prediction_df['Predicted'] = train_predict"
   ]
  },
  {
   "cell_type": "code",
   "execution_count": 50,
   "id": "3ef2ce37",
   "metadata": {},
   "outputs": [
    {
     "data": {
      "text/html": [
       "<div>\n",
       "<style scoped>\n",
       "    .dataframe tbody tr th:only-of-type {\n",
       "        vertical-align: middle;\n",
       "    }\n",
       "\n",
       "    .dataframe tbody tr th {\n",
       "        vertical-align: top;\n",
       "    }\n",
       "\n",
       "    .dataframe thead th {\n",
       "        text-align: right;\n",
       "    }\n",
       "</style>\n",
       "<table border=\"1\" class=\"dataframe\">\n",
       "  <thead>\n",
       "    <tr style=\"text-align: right;\">\n",
       "      <th></th>\n",
       "      <th>Close</th>\n",
       "      <th>Predicted</th>\n",
       "    </tr>\n",
       "    <tr>\n",
       "      <th>Date</th>\n",
       "      <th></th>\n",
       "      <th></th>\n",
       "    </tr>\n",
       "  </thead>\n",
       "  <tbody>\n",
       "    <tr>\n",
       "      <th>2010-07-28</th>\n",
       "      <td>20.719999</td>\n",
       "      <td>35.597889</td>\n",
       "    </tr>\n",
       "    <tr>\n",
       "      <th>2010-07-29</th>\n",
       "      <td>20.350000</td>\n",
       "      <td>35.589481</td>\n",
       "    </tr>\n",
       "    <tr>\n",
       "      <th>2010-07-30</th>\n",
       "      <td>19.940001</td>\n",
       "      <td>35.586563</td>\n",
       "    </tr>\n",
       "    <tr>\n",
       "      <th>2010-08-02</th>\n",
       "      <td>20.920000</td>\n",
       "      <td>35.581333</td>\n",
       "    </tr>\n",
       "    <tr>\n",
       "      <th>2010-08-03</th>\n",
       "      <td>21.950001</td>\n",
       "      <td>35.561375</td>\n",
       "    </tr>\n",
       "  </tbody>\n",
       "</table>\n",
       "</div>"
      ],
      "text/plain": [
       "                Close  Predicted\n",
       "Date                            \n",
       "2010-07-28  20.719999  35.597889\n",
       "2010-07-29  20.350000  35.589481\n",
       "2010-07-30  19.940001  35.586563\n",
       "2010-08-02  20.920000  35.581333\n",
       "2010-08-03  21.950001  35.561375"
      ]
     },
     "execution_count": 50,
     "metadata": {},
     "output_type": "execute_result"
    }
   ],
   "source": [
    "train_prediction_df.head()"
   ]
  },
  {
   "cell_type": "code",
   "execution_count": 51,
   "id": "a99582de",
   "metadata": {},
   "outputs": [],
   "source": [
    "test_prediction_df = result_df[pos+lookback:]"
   ]
  },
  {
   "cell_type": "code",
   "execution_count": 52,
   "id": "5d9aa00f",
   "metadata": {},
   "outputs": [],
   "source": [
    "test_prediction_df['Predicted'] = test_predict"
   ]
  },
  {
   "cell_type": "code",
   "execution_count": 53,
   "id": "97a77359",
   "metadata": {},
   "outputs": [
    {
     "data": {
      "text/html": [
       "<div>\n",
       "<style scoped>\n",
       "    .dataframe tbody tr th:only-of-type {\n",
       "        vertical-align: middle;\n",
       "    }\n",
       "\n",
       "    .dataframe tbody tr th {\n",
       "        vertical-align: top;\n",
       "    }\n",
       "\n",
       "    .dataframe thead th {\n",
       "        text-align: right;\n",
       "    }\n",
       "</style>\n",
       "<table border=\"1\" class=\"dataframe\">\n",
       "  <thead>\n",
       "    <tr style=\"text-align: right;\">\n",
       "      <th></th>\n",
       "      <th>Close</th>\n",
       "      <th>Predicted</th>\n",
       "    </tr>\n",
       "    <tr>\n",
       "      <th>Date</th>\n",
       "      <th></th>\n",
       "      <th></th>\n",
       "    </tr>\n",
       "  </thead>\n",
       "  <tbody>\n",
       "    <tr>\n",
       "      <th>2018-04-03</th>\n",
       "      <td>267.529999</td>\n",
       "      <td>314.626678</td>\n",
       "    </tr>\n",
       "    <tr>\n",
       "      <th>2018-04-04</th>\n",
       "      <td>286.940002</td>\n",
       "      <td>311.997162</td>\n",
       "    </tr>\n",
       "    <tr>\n",
       "      <th>2018-04-05</th>\n",
       "      <td>305.720001</td>\n",
       "      <td>309.491547</td>\n",
       "    </tr>\n",
       "    <tr>\n",
       "      <th>2018-04-06</th>\n",
       "      <td>299.299988</td>\n",
       "      <td>309.085449</td>\n",
       "    </tr>\n",
       "    <tr>\n",
       "      <th>2018-04-09</th>\n",
       "      <td>289.660004</td>\n",
       "      <td>311.655914</td>\n",
       "    </tr>\n",
       "  </tbody>\n",
       "</table>\n",
       "</div>"
      ],
      "text/plain": [
       "                 Close   Predicted\n",
       "Date                              \n",
       "2018-04-03  267.529999  314.626678\n",
       "2018-04-04  286.940002  311.997162\n",
       "2018-04-05  305.720001  309.491547\n",
       "2018-04-06  299.299988  309.085449\n",
       "2018-04-09  289.660004  311.655914"
      ]
     },
     "execution_count": 53,
     "metadata": {},
     "output_type": "execute_result"
    }
   ],
   "source": [
    "test_prediction_df.head()"
   ]
  },
  {
   "cell_type": "code",
   "execution_count": 54,
   "id": "4653d5db",
   "metadata": {},
   "outputs": [
    {
     "data": {
      "image/png": "[encoded data removed]",
      "text/plain": [
       "<Figure size 1200x600 with 1 Axes>"
      ]
     },
     "metadata": {},
     "output_type": "display_data"
    }
   ],
   "source": [
    "# Train ve Test Tahminlerini ayrı ayrı görselleştirme işlemi\n",
    "plt.figure(figsize=(12,6))\n",
    "plt.plot(result_df, label = 'Real Values')\n",
    "plt.plot(train_prediction_df[\"Predicted\"], color = 'blue', label = 'Train Predicted')\n",
    "plt.plot(test_prediction_df[\"Predicted\"], color = 'red', label = 'Test Predicted')\n",
    "plt.xlabel('Time')\n",
    "plt.ylabel('Stock Values')\n",
    "plt.legend()\n",
    "plt.show()"
   ]
  },
  {
   "cell_type": "code",
   "execution_count": null,
   "id": "3fb01be2",
   "metadata": {},
   "outputs": [],
   "source": []
  }
 ],
 "metadata": {
  "kernelspec": {
   "display_name": "Python 3 (ipykernel)",
   "language": "python",
   "name": "python3"
  },
  "language_info": {
   "codemirror_mode": {
    "name": "ipython",
    "version": 3
   },
   "file_extension": ".py",
   "mimetype": "text/x-python",
   "name": "python",
   "nbconvert_exporter": "python",
   "pygments_lexer": "ipython3",
   "version": "3.11.7"
  }
 },
 "nbformat": 4,
 "nbformat_minor": 5
}
